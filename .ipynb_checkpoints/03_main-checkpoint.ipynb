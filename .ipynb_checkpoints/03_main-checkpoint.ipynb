{
 "cells": [
  {
   "cell_type": "markdown",
   "id": "37f39ad6-0c20-4b13-afae-b943e8ea7b77",
   "metadata": {},
   "source": [
    "# 3. Program Organization"
   ]
  }
 ],
 "metadata": {
  "kernelspec": {
   "display_name": "Python 3 (ipykernel)",
   "language": "python",
   "name": "python3"
  },
  "language_info": {
   "codemirror_mode": {
    "name": "ipython",
    "version": 3
   },
   "file_extension": ".py",
   "mimetype": "text/x-python",
   "name": "python",
   "nbconvert_exporter": "python",
   "pygments_lexer": "ipython3",
   "version": "3.9.10"
  }
 },
 "nbformat": 4,
 "nbformat_minor": 5
}
