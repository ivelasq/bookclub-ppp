{
 "cells": [
  {
   "cell_type": "markdown",
   "id": "37f39ad6-0c20-4b13-afae-b943e8ea7b77",
   "metadata": {},
   "source": [
    "# Notes"
   ]
  },
  {
   "cell_type": "markdown",
   "id": "1279d92e-36ae-46c1-8263-f9415f75a11a",
   "metadata": {},
   "source": [
    "To write better programs, we will cover:\n",
    "    * writing functions\n",
    "    * handling errors\n",
    "    * introducing modules"
   ]
  }
 ],
 "metadata": {
  "kernelspec": {
   "display_name": "Python 3",
   "language": "python",
   "name": "python3"
  },
  "language_info": {
   "codemirror_mode": {
    "name": "ipython",
    "version": 3
   },
   "file_extension": ".py",
   "mimetype": "text/x-python",
   "name": "python",
   "nbconvert_exporter": "python",
   "pygments_lexer": "ipython3",
   "version": "3.7.5"
  }
 },
 "nbformat": 4,
 "nbformat_minor": 5
}
