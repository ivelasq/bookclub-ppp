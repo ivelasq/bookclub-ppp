{
 "cells": [
  {
   "cell_type": "markdown",
   "id": "37f39ad6-0c20-4b13-afae-b943e8ea7b77",
   "metadata": {},
   "source": [
    "# Notes"
   ]
  },
  {
   "cell_type": "markdown",
   "id": "f2077cea-28e2-4c86-98a6-ebf975745c61",
   "metadata": {
    "tags": []
   },
   "source": [
    "## Scripting\n",
    "\n",
    "A *script* is a program that runs a series of statements and stops.\n",
    "\n",
    "* **Order is important.** Put definitions of variables and functions near the top.\n",
    "* Names must always be defined before they are used."
   ]
  },
  {
   "cell_type": "code",
   "execution_count": 1,
   "id": "66eac3d1-1eab-461d-bac0-5a07179b12d5",
   "metadata": {},
   "outputs": [],
   "source": [
    "def square(x):\n",
    "    return x*x\n",
    "\n",
    "a = 42\n",
    "b = a + 2     # Requires that `a` is defined\n",
    "\n",
    "z = square(b) # Requires `square` and `b` to be defined"
   ]
  },
  {
   "cell_type": "markdown",
   "id": "ce7bb58d-43d7-4420-8ca6-d6017bb0f6e6",
   "metadata": {},
   "source": [
    "### Functions\n",
    "\n",
    "A function is a named sequence of statements.\n",
    "\n",
    "*Why?*\n",
    "\n",
    "* Use a function to put all of the code related to a single task all in one place.\n",
    "* Functions simplify complex operations.\n",
    "* They also simplify repeated operations.\n",
    "\n",
    "*How?*\n",
    "\n",
    "* Like variables, define functions prior to actually being used (or called) during program execution.\n",
    "\n",
    "*Best practices*\n",
    "\n",
    "* Use a \"bottom-up\" style: the smaller/simpler functions go at the top of your script.\n",
    "* Functions should only operate on passed inputs and avoid global variables and mysterious side-effects.\n",
    "  - Using global variables from functions -> use classes to have assess all the variables\n",
    "* Use a 'doc-string' to include documentation for your function. Include at least a short one sentence summary of what the function does.\n",
    "  - First line defines purpose of the function\n",
    "  - Next lines explain the arguments and return type\n",
    "* Use type annotations to inform users about function definitions."
   ]
  },
  {
   "cell_type": "code",
   "execution_count": 2,
   "id": "014554bb-c3a4-47b1-955e-b80374463bef",
   "metadata": {},
   "outputs": [],
   "source": [
    "# define function - put all tasks in one place\n",
    "def read_prices(filename: str) -> dict: # add type annotation\n",
    "    # add documentation with a doc string\n",
    "    ''' \n",
    "    Read prices from a CSV file of name,price data\n",
    "    '''\n",
    "    prices = {}\n",
    "    with open(filename) as f:\n",
    "        f_csv = csv.reader(f)\n",
    "        for row in f_csv:\n",
    "            prices[row[0]] = float(row[1])\n",
    "    return prices"
   ]
  },
  {
   "cell_type": "markdown",
   "id": "5b718289-e8e9-4641-b18d-c9528e82c536",
   "metadata": {},
   "source": [
    "## More on Functions"
   ]
  },
  {
   "cell_type": "markdown",
   "id": "4e9b23d4-7863-4310-900f-fd97c49dc99f",
   "metadata": {},
   "source": [
    "### Calling a function\n",
    "\n",
    "* Positional arguments `prices = read_prices('prices.csv', True)`\n",
    "* Keyword arguments `prices = read_prices(filename='prices.csv', debug=True)`\n",
    "\n",
    "### Default arguments\n",
    "\n",
    "* Define a default that needs to be overwritten\n",
    "* All non-optional arguments go first\n",
    "* Keyword arguments improve code clarity\n",
    "* Always give short, but meaningful names to functions arguments\n",
    "\n",
    "default: `def read_prices(filename, debug=False)`\n",
    "\n",
    "optional argument: `d = read_prices('prices.csv')`\n",
    "\n",
    "override argument: `e = read_prices('prices.dat', True)`\n",
    "\n",
    "even better override argument: `d = read_prices('prices.csv', debug=True)`"
   ]
  },
  {
   "cell_type": "markdown",
   "id": "d2ab8180-96d8-4c29-8b4f-37726622455b",
   "metadata": {},
   "source": [
    "### Returning values\n",
    "\n",
    "* The return statement returns a value."
   ]
  },
  {
   "cell_type": "code",
   "execution_count": 2,
   "id": "1bdc6f38-c3d1-489b-8eb6-2dd9cb8607ab",
   "metadata": {},
   "outputs": [
    {
     "data": {
      "text/plain": [
       "4"
      ]
     },
     "execution_count": 2,
     "metadata": {},
     "output_type": "execute_result"
    }
   ],
   "source": [
    "def square(x):\n",
    "    return x * x\n",
    "\n",
    "square(2)"
   ]
  },
  {
   "cell_type": "markdown",
   "id": "61b56815-3b2f-46ea-8975-af424e4d179e",
   "metadata": {},
   "source": [
    "* If no return value is given or return is missing, None is returned."
   ]
  },
  {
   "cell_type": "code",
   "execution_count": 3,
   "id": "37b2821e-e33d-4da6-a42c-bef792f659e0",
   "metadata": {},
   "outputs": [],
   "source": [
    "def square(x):\n",
    "    x * x\n",
    "\n",
    "square(2)"
   ]
  },
  {
   "cell_type": "markdown",
   "id": "56234fd9-8920-4571-bed1-70244d4f9e7f",
   "metadata": {},
   "source": [
    "Functions can only return one value OR return them in a tuple."
   ]
  },
  {
   "cell_type": "code",
   "execution_count": 7,
   "id": "1b6bdcee-9693-43b0-aa56-84d7eb4c9d7f",
   "metadata": {
    "tags": []
   },
   "outputs": [
    {
     "data": {
      "text/plain": [
       "(7, 2)"
      ]
     },
     "execution_count": 7,
     "metadata": {},
     "output_type": "execute_result"
    }
   ],
   "source": [
    "def divide(a,b):\n",
    "    q = a // b      # Quotient\n",
    "    r = a % b       # Remainder\n",
    "    return q, r     # Return a tuple\n",
    "\n",
    "x, y = divide(37,5) # x = 7, y = 2\n",
    "\n",
    "x, y"
   ]
  },
  {
   "cell_type": "markdown",
   "id": "3f64a3eb-b803-40ba-a3cc-9b1bee2cd5c4",
   "metadata": {},
   "source": [
    "### Variable scope"
   ]
  },
  {
   "cell_type": "markdown",
   "id": "1f186001-7b9e-496f-9d20-8d99b206ba2e",
   "metadata": {
    "tags": []
   },
   "source": [
    "Variables assignments occur outside and inside function definitions.\n",
    " * Variables defined outside are “global”.\n",
    "   - Functions can freely access the values of globals defined in the same file.\n",
    "   - However, functions cannot modify globals.\n",
    "   - There is a `global` keyword that lets you modify global variables.\n",
    "   - `globals()` will list all of your global variables.\n",
    " * Variables inside a function are “local”.\n",
    "   - Local variables are not retained or accessible after the function call."
   ]
  },
  {
   "cell_type": "code",
   "execution_count": 8,
   "id": "1d671d53-458f-45ca-8858-c1d26a42b38c",
   "metadata": {},
   "outputs": [
    {
     "name": "stdout",
     "output_type": "stream",
     "text": [
      "Hello Dave\n"
     ]
    }
   ],
   "source": [
    "def greeting():\n",
    "    name = 'Dave' # Using `name` local variable\n",
    "    print('Hello', name)  \n",
    "    \n",
    "greeting()"
   ]
  },
  {
   "cell_type": "code",
   "execution_count": 9,
   "id": "71239843-edf7-4a1b-9b38-72c040aa2dff",
   "metadata": {},
   "outputs": [
    {
     "name": "stdout",
     "output_type": "stream",
     "text": [
      "Hello Dave\n"
     ]
    }
   ],
   "source": [
    "name = 'Dave'\n",
    "\n",
    "def greeting():\n",
    "    print('Hello', name)  # Using `name` global variable\n",
    "\n",
    "greeting()"
   ]
  },
  {
   "cell_type": "markdown",
   "id": "0672a600-360b-414c-b8d6-fd4d37b01baf",
   "metadata": {
    "tags": []
   },
   "source": [
    "### Argument passing\n",
    "* Values are not copies\n",
    "* Can be modified in-place\n",
    "* Variable assignment never overwrites memory. The name is merely bound to a new value."
   ]
  },
  {
   "cell_type": "code",
   "execution_count": 8,
   "id": "351cf979-448c-489c-8e10-20b5b1a95d30",
   "metadata": {},
   "outputs": [
    {
     "name": "stdout",
     "output_type": "stream",
     "text": [
      "[1, 2, 3, 42]\n"
     ]
    }
   ],
   "source": [
    "def foo(items):\n",
    "    items.append(42)    # Modifies the input object\n",
    "\n",
    "a = [1, 2, 3]\n",
    "foo(a)\n",
    "print(a)                # [1, 2, 3, 42]"
   ]
  },
  {
   "cell_type": "code",
   "execution_count": null,
   "id": "25665989-c388-4462-ab36-06ffcd2344d5",
   "metadata": {},
   "outputs": [],
   "source": [
    "def bar(items):\n",
    "    items = [4,5,6]    # Changes local `items` variable to point to a different object\n",
    "\n",
    "b = [1, 2, 3]\n",
    "bar(b)\n",
    "print(b)                # [1, 2, 3]"
   ]
  },
  {
   "cell_type": "markdown",
   "id": "11e1da1c-2aa2-49a6-b44e-a41a3ac489e3",
   "metadata": {
    "tags": []
   },
   "source": [
    "## Error Checking\n",
    "\n",
    "- Python performs no checking or validation of function argument types or values.\n",
    "- Errors appear at run time.\n",
    "\n",
    "### Exceptions\n",
    "\n",
    "- Use `raise` to raise exceptions.\n",
    "- Exceptions have an associated value (`f'{name} not authorized'` below).\n",
    "\n",
    "\"Don’t catch exceptions. Fail fast and loud. If it’s important, someone else will take care of the problem. Only catch an exception if you are that someone. That is, only catch errors where you can recover and sanely keep going.\""
   ]
  },
  {
   "cell_type": "code",
   "execution_count": 10,
   "id": "7de776f2-c6d3-46b4-bfb0-64caa8b5e4c9",
   "metadata": {},
   "outputs": [
    {
     "ename": "RuntimeError",
     "evalue": "Dave not authorized",
     "output_type": "error",
     "traceback": [
      "\u001b[0;31m---------------------------------------------------------------------------\u001b[0m",
      "\u001b[0;31mRuntimeError\u001b[0m                              Traceback (most recent call last)",
      "\u001b[0;32m<ipython-input-10-ab75607f1fb9>\u001b[0m in \u001b[0;36m<module>\u001b[0;34m\u001b[0m\n\u001b[1;32m      2\u001b[0m \u001b[0;34m\u001b[0m\u001b[0m\n\u001b[1;32m      3\u001b[0m \u001b[0;32mif\u001b[0m \u001b[0mname\u001b[0m \u001b[0;32mnot\u001b[0m \u001b[0;32min\u001b[0m \u001b[0mauthorized\u001b[0m\u001b[0;34m:\u001b[0m\u001b[0;34m\u001b[0m\u001b[0;34m\u001b[0m\u001b[0m\n\u001b[0;32m----> 4\u001b[0;31m     \u001b[0;32mraise\u001b[0m \u001b[0mRuntimeError\u001b[0m\u001b[0;34m(\u001b[0m\u001b[0;34mf'{name} not authorized'\u001b[0m\u001b[0;34m)\u001b[0m\u001b[0;34m\u001b[0m\u001b[0;34m\u001b[0m\u001b[0m\n\u001b[0m",
      "\u001b[0;31mRuntimeError\u001b[0m: Dave not authorized"
     ]
    }
   ],
   "source": [
    "authorized = [\"Alpha\", \"Bravo\", \"Delta\"]\n",
    "\n",
    "if name not in authorized:\n",
    "    raise RuntimeError(f'{name} not authorized')"
   ]
  },
  {
   "cell_type": "markdown",
   "id": "35e7d9aa-3445-4c2a-96fa-15fe1d781745",
   "metadata": {},
   "source": [
    "### Exception Handling\n",
    "\n",
    "- Use `try-except` to catch exceptions.\n",
    "- Exceptions propagate to the first matching `except`.\n",
    "- See [built-in exceptions](https://docs.python.org/3/library/exceptions.html)."
   ]
  },
  {
   "cell_type": "code",
   "execution_count": 11,
   "id": "0ad9a860-bace-4db2-aa25-44ebbbbabee1",
   "metadata": {},
   "outputs": [],
   "source": [
    "def grok():\n",
    "    ...\n",
    "    raise RuntimeError('Whoa!')   # Exception raised here\n",
    "\n",
    "def spam():\n",
    "    grok()                        # Call that will raise exception\n",
    "\n",
    "def bar():\n",
    "    try:\n",
    "       spam()\n",
    "    except RuntimeError as e:     # Exception caught here\n",
    "        ...\n",
    "\n",
    "def foo():\n",
    "    try:\n",
    "         bar()\n",
    "    except RuntimeError as e:     # Exception does NOT arrive here\n",
    "        ...\n",
    "\n",
    "foo()"
   ]
  },
  {
   "cell_type": "markdown",
   "id": "7d9a2d42-fa2e-4e23-b9db-a7debf5d28f1",
   "metadata": {},
   "source": [
    "### Catching Multiple Errors\n",
    "\n",
    "* You can catch different kinds of exceptions using multiple `except` blocks."
   ]
  },
  {
   "cell_type": "code",
   "execution_count": 12,
   "id": "08f75c86-f868-4917-9a5a-128a96975548",
   "metadata": {},
   "outputs": [],
   "source": [
    "try:\n",
    "  ...\n",
    "except LookupError as e:\n",
    "  ...\n",
    "except RuntimeError as e:\n",
    "  ...\n",
    "except IOError as e:\n",
    "  ...\n",
    "except KeyboardInterrupt as e:\n",
    "  ..."
   ]
  },
  {
   "cell_type": "markdown",
   "id": "0dec7eb1-41d4-4d49-b37b-db6ce9c20423",
   "metadata": {},
   "source": [
    "### Catching All Errors\n",
    "\n",
    "* This method tells you the reason something failed."
   ]
  },
  {
   "cell_type": "code",
   "execution_count": 13,
   "id": "7ca056a0-0897-4e14-990f-50675941435f",
   "metadata": {},
   "outputs": [
    {
     "name": "stdout",
     "output_type": "stream",
     "text": [
      "Computer says no. Reason : name 'go_do_something' is not defined\n"
     ]
    }
   ],
   "source": [
    "try:\n",
    "    go_do_something()\n",
    "except Exception as e:\n",
    "    print('Computer says no. Reason :', e)"
   ]
  },
  {
   "cell_type": "markdown",
   "id": "63f251c8-9ad3-456c-a84d-c601f4684bae",
   "metadata": {},
   "source": [
    "### `finally` and `with` statements\n",
    "\n",
    "* Specifies code that must run regardless of whether or not an exception occurs.\n",
    "\n",
    "``` python\n",
    "lock = Lock()\n",
    "...\n",
    "lock.acquire()\n",
    "try:\n",
    "    ...\n",
    "finally:\n",
    "    lock.release()  # this will ALWAYS be executed. With and without exception.\n",
    "```\n",
    "\n",
    "* In modern code, try-finally is often replaced with the `with` statement.\n",
    "\n",
    "```\n",
    "lock = Lock()\n",
    "with lock:\n",
    "    # lock acquired\n",
    "    ...\n",
    "# lock released\n",
    "```"
   ]
  },
  {
   "cell_type": "markdown",
   "id": "a587943d-771e-49f7-9611-00cd8b059e0a",
   "metadata": {
    "tags": []
   },
   "source": [
    "## Modules\n",
    "\n",
    "- Any Python source file is a module (file = module).\n",
    "- The `import` statement loads and executes a module: `import foo`.\n",
    "\n",
    "### Namespace\n",
    "\n",
    "A module is sometimes said to be a namespace. The module name is directly tied to the file name.\n",
    "\n",
    "- The module name is used as a prefix: `a = foo.grok(2)`\n",
    "- The names are all of the global variables and functions defined in the source file.\n",
    "- You can refer to a variable of the same name if in two different modules (modules are isolated).\n",
    "- Each module is its own little universe (global variables are always bound to the enclosing module).\n",
    "\n",
    "### Module execution\n",
    "\n",
    "When a module is imported, all of the statements in the module execute one after another until the end of the file is reached.\n",
    "- Python consults a path list (`sys.path`) when looking for modules. This can be adjusted.\n",
    "\n",
    "#### `import as` statement\n",
    "\n",
    "You can change the name of a module as you import it: `import pandas as pd`\n",
    "\n",
    "- Each module loads and executes only once.\n",
    "  -  The safest way to load modified code into Python is to quit and restart the interpreter.\n",
    "- Variations on import do not change the way that modules work.\n",
    "\n",
    "#### `from` module import\n",
    "\n",
    "This picks certain statements from a module rather than all of them: `from math import sin, cos`"
   ]
  },
  {
   "cell_type": "markdown",
   "id": "879ebbf7-6a09-4d62-84b3-bf48d065fcdf",
   "metadata": {},
   "source": [
    "## Main Module\n",
    "\n",
    "The main module is the source file that runs first.\n",
    "\n",
    "Any Python file can either run as main or as a library import.\n",
    "\n",
    "``` python\n",
    "bash % python3 prog.py # Running as main\n",
    "import prog   # Running as library import\n",
    "```\n",
    "\n",
    "Usually, you don’t want statements that are part of the main program to execute on a library import. \n",
    "\n",
    "* https://stackoverflow.com/questions/419163/what-does-if-name-main-do\n",
    "\n",
    "``` python\n",
    "if __name__ == '__main__':\n",
    "    # Does not execute if loaded with import ...\n",
    "```"
   ]
  },
  {
   "cell_type": "markdown",
   "id": "b4282477-4911-4779-84eb-c409dd01cefe",
   "metadata": {},
   "source": [
    "### Command Line\n",
    "\n",
    "Python is often used for command-line tools.\n",
    "\n",
    "- The command line is a list of text strings: `bash % python3 report.py portfolio.csv prices.csv`\n",
    "\n",
    "### Standard S/I\n",
    "\n",
    "Standard Input / Output (or stdio) are files that work the same as normal files.\n",
    "\n",
    "- Print is directed to `sys.stdout`\n",
    "- Input is read from `sys.stderr`\n",
    "- Tracebacks and errors are directed to `sys.stdin`\n",
    "\n",
    "### Environment Variables\n",
    "\n",
    "- Environment variables are set in the shell: `bash % setenv NAME dave`\n",
    "- `os.environ` is a dictionary that contains these values.\n",
    "\n",
    "``` python\n",
    "import os\n",
    "\n",
    "name = os.environ['NAME'] # 'dave'\n",
    "```\n",
    "\n",
    "### Program Exit\n",
    "\n",
    "Program exit is handled through exceptions: `raise SystemExit`."
   ]
  },
  {
   "cell_type": "markdown",
   "id": "81036e86-e2e9-4cb6-b66a-6104bf866e3a",
   "metadata": {},
   "source": [
    "##  Design Discussion\n",
    "\n",
    "### Filenames versus Iterables\n",
    "\n",
    "- Which of these functions do you prefer? Why?\n",
    "- Which of these functions is more flexible?\n",
    "\n",
    "Option 1:\n",
    "\n",
    "```\n",
    "# Provide a filename\n",
    "def read_data(filename):\n",
    "    records = []\n",
    "    with open(filename) as f:\n",
    "        for line in f:\n",
    "            ...\n",
    "            records.append(r)\n",
    "    return records\n",
    "\n",
    "d = read_data('file.csv')\n",
    "```\n",
    "\n",
    "Option 2:\n",
    "\n",
    "```\n",
    "# Provide lines\n",
    "def read_data(lines):\n",
    "    records = []\n",
    "    for line in lines:\n",
    "        ...\n",
    "        records.append(r)\n",
    "    return records\n",
    "\n",
    "with open('file.csv') as f:\n",
    "    d = read_data(f)\n",
    "```"
   ]
  },
  {
   "cell_type": "markdown",
   "id": "905f0787-197a-45e7-b9e4-01729c9ad8fa",
   "metadata": {},
   "source": [
    "**Duck typing:** If it looks like a duck, swims like a duck, and quacks like a duck, then it probably is a duck.\n",
    "\n",
    "In the second version of read_data() above, the function expects any iterable object, not just the lines of a file. There is considerable flexibility with this design. *Question: Should we embrace or fight this flexibility?*"
   ]
  }
 ],
 "metadata": {
  "kernelspec": {
   "display_name": "Python 3",
   "language": "python",
   "name": "python3"
  },
  "language_info": {
   "codemirror_mode": {
    "name": "ipython",
    "version": 3
   },
   "file_extension": ".py",
   "mimetype": "text/x-python",
   "name": "python",
   "nbconvert_exporter": "python",
   "pygments_lexer": "ipython3",
   "version": "3.7.5"
  }
 },
 "nbformat": 4,
 "nbformat_minor": 5
}
