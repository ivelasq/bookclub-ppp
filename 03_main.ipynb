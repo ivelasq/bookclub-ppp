{
 "cells": [
  {
   "cell_type": "markdown",
   "id": "37f39ad6-0c20-4b13-afae-b943e8ea7b77",
   "metadata": {},
   "source": [
    "# 3. Program Organization\n",
    "\n",
    "## Learning Objectives\n",
    "\n",
    "To write better programs, we want to understand how to:\n",
    "\n",
    "* write functions\n",
    "* handle errors\n",
    "* use modules"
   ]
  }
 ],
 "metadata": {
  "kernelspec": {
   "display_name": "Python 3",
   "language": "python",
   "name": "python3"
  },
  "language_info": {
   "codemirror_mode": {
    "name": "ipython",
    "version": 3
   },
   "file_extension": ".py",
   "mimetype": "text/x-python",
   "name": "python",
   "nbconvert_exporter": "python",
   "pygments_lexer": "ipython3",
   "version": "3.7.5"
  }
 },
 "nbformat": 4,
 "nbformat_minor": 5
}
